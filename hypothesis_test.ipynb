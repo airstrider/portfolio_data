{
 "cells": [
  {
   "cell_type": "markdown",
   "metadata": {},
   "source": [
    "# Explore hypothesis testing"
   ]
  },
  {
   "cell_type": "markdown",
   "metadata": {},
   "source": [
    "## Introduction\n",
    "\n",
    "The dataset is about the air quality in America, which is porveded by an environment protection agency. \n",
    "\n",
    "The data contains Air Quality Index (AQI), allowing reviewers to get some guidance in making a decision\n",
    "- An AQI value close to 0 signals \"little to no\" public health concern, while higher values are associated with increased risk to public health."
   ]
  },
  {
   "cell_type": "markdown",
   "metadata": {},
   "source": [
    "ROA is considering the following decisions. For each, construct a hypothesis test and an accompanying visualization, using your results of that test to make a recommendation:\n",
    "\n",
    "1. ROA is considering a metropolitan-focused approach. Within California, they want to know if the mean AQI in Los Angeles County is statistically different from the rest of California.\n",
    "2. With limited resources, ROA has to choose between New York and Ohio for their next regional office. Does New York have a lower AQI than Ohio?\n",
    "3. A new policy will affect those states with a mean AQI of 10 or greater. Can you rule out Michigan from being affected by this new policy?\n",
    "\n",
    "For your analysis, you'll default to a 5% level of significance."
   ]
  },
  {
   "cell_type": "markdown",
   "metadata": {},
   "source": [
    "**The purpose** of this project is to conduct explora hypothesis test on a provided data set.\n",
    "  \n",
    "**The goal** is to analyize the data set and perform a hypothesis test.\n",
    "<br/>  \n",
    "*This activity has 4 parts:*\n",
    "\n",
    "**Part 1:** Imports, links, and loading\n",
    "\n",
    "**Part 2:** Data Exploration\n",
    "- Data cleaning\n",
    "\n",
    "**Part 3:** Building a model for a hypothesis test\n",
    "- For the analysis, let's set default `significance level` to `5%`.\n",
    "\n",
    "**Part 4:** Evaluate and share results"
   ]
  },
  {
   "cell_type": "markdown",
   "metadata": {},
   "source": [
    "### Part 1. Imports, links, and loading\n",
    "\n",
    "For EDA of the data, import the data and packages that would be most helpful, such as pandas, numpy and matplotlib.\n",
    "\n",
    "Then, import the dataset."
   ]
  },
  {
   "cell_type": "code",
   "execution_count": 59,
   "metadata": {},
   "outputs": [],
   "source": [
    "import pandas as pd\n",
    "import numpy as np\n",
    "from scipy import stats"
   ]
  },
  {
   "cell_type": "code",
   "execution_count": 60,
   "metadata": {},
   "outputs": [
    {
     "data": {
      "text/html": [
       "<div>\n",
       "<style scoped>\n",
       "    .dataframe tbody tr th:only-of-type {\n",
       "        vertical-align: middle;\n",
       "    }\n",
       "\n",
       "    .dataframe tbody tr th {\n",
       "        vertical-align: top;\n",
       "    }\n",
       "\n",
       "    .dataframe thead th {\n",
       "        text-align: right;\n",
       "    }\n",
       "</style>\n",
       "<table border=\"1\" class=\"dataframe\">\n",
       "  <thead>\n",
       "    <tr style=\"text-align: right;\">\n",
       "      <th></th>\n",
       "      <th>date_local</th>\n",
       "      <th>state_name</th>\n",
       "      <th>county_name</th>\n",
       "      <th>city_name</th>\n",
       "      <th>local_site_name</th>\n",
       "      <th>parameter_name</th>\n",
       "      <th>units_of_measure</th>\n",
       "      <th>arithmetic_mean</th>\n",
       "      <th>aqi</th>\n",
       "    </tr>\n",
       "  </thead>\n",
       "  <tbody>\n",
       "    <tr>\n",
       "      <th>0</th>\n",
       "      <td>1/1/18</td>\n",
       "      <td>Arizona</td>\n",
       "      <td>Maricopa</td>\n",
       "      <td>Buckeye</td>\n",
       "      <td>BUCKEYE</td>\n",
       "      <td>Carbon monoxide</td>\n",
       "      <td>Parts per million</td>\n",
       "      <td>0.473684</td>\n",
       "      <td>7</td>\n",
       "    </tr>\n",
       "    <tr>\n",
       "      <th>1</th>\n",
       "      <td>1/1/18</td>\n",
       "      <td>Ohio</td>\n",
       "      <td>Belmont</td>\n",
       "      <td>Shadyside</td>\n",
       "      <td>Shadyside</td>\n",
       "      <td>Carbon monoxide</td>\n",
       "      <td>Parts per million</td>\n",
       "      <td>0.263158</td>\n",
       "      <td>5</td>\n",
       "    </tr>\n",
       "    <tr>\n",
       "      <th>2</th>\n",
       "      <td>1/1/18</td>\n",
       "      <td>Wyoming</td>\n",
       "      <td>Teton</td>\n",
       "      <td>Not in a city</td>\n",
       "      <td>Yellowstone National Park - Old Faithful Snow ...</td>\n",
       "      <td>Carbon monoxide</td>\n",
       "      <td>Parts per million</td>\n",
       "      <td>0.111111</td>\n",
       "      <td>2</td>\n",
       "    </tr>\n",
       "    <tr>\n",
       "      <th>3</th>\n",
       "      <td>1/1/18</td>\n",
       "      <td>Pennsylvania</td>\n",
       "      <td>Philadelphia</td>\n",
       "      <td>Philadelphia</td>\n",
       "      <td>North East Waste (NEW)</td>\n",
       "      <td>Carbon monoxide</td>\n",
       "      <td>Parts per million</td>\n",
       "      <td>0.300000</td>\n",
       "      <td>3</td>\n",
       "    </tr>\n",
       "    <tr>\n",
       "      <th>4</th>\n",
       "      <td>1/1/18</td>\n",
       "      <td>Iowa</td>\n",
       "      <td>Polk</td>\n",
       "      <td>Des Moines</td>\n",
       "      <td>CARPENTER</td>\n",
       "      <td>Carbon monoxide</td>\n",
       "      <td>Parts per million</td>\n",
       "      <td>0.215789</td>\n",
       "      <td>3</td>\n",
       "    </tr>\n",
       "    <tr>\n",
       "      <th>...</th>\n",
       "      <td>...</td>\n",
       "      <td>...</td>\n",
       "      <td>...</td>\n",
       "      <td>...</td>\n",
       "      <td>...</td>\n",
       "      <td>...</td>\n",
       "      <td>...</td>\n",
       "      <td>...</td>\n",
       "      <td>...</td>\n",
       "    </tr>\n",
       "    <tr>\n",
       "      <th>255</th>\n",
       "      <td>1/1/18</td>\n",
       "      <td>District Of Columbia</td>\n",
       "      <td>District of Columbia</td>\n",
       "      <td>Washington</td>\n",
       "      <td>Near Road</td>\n",
       "      <td>Carbon monoxide</td>\n",
       "      <td>Parts per million</td>\n",
       "      <td>0.244444</td>\n",
       "      <td>3</td>\n",
       "    </tr>\n",
       "    <tr>\n",
       "      <th>256</th>\n",
       "      <td>1/1/18</td>\n",
       "      <td>Wisconsin</td>\n",
       "      <td>Dodge</td>\n",
       "      <td>Kekoskee</td>\n",
       "      <td>HORICON WILDLIFE AREA</td>\n",
       "      <td>Carbon monoxide</td>\n",
       "      <td>Parts per million</td>\n",
       "      <td>0.200000</td>\n",
       "      <td>2</td>\n",
       "    </tr>\n",
       "    <tr>\n",
       "      <th>257</th>\n",
       "      <td>1/1/18</td>\n",
       "      <td>Kentucky</td>\n",
       "      <td>Jefferson</td>\n",
       "      <td>Louisville</td>\n",
       "      <td>CANNONS LANE</td>\n",
       "      <td>Carbon monoxide</td>\n",
       "      <td>Parts per million</td>\n",
       "      <td>0.163158</td>\n",
       "      <td>2</td>\n",
       "    </tr>\n",
       "    <tr>\n",
       "      <th>258</th>\n",
       "      <td>1/1/18</td>\n",
       "      <td>Nebraska</td>\n",
       "      <td>Douglas</td>\n",
       "      <td>Omaha</td>\n",
       "      <td>NaN</td>\n",
       "      <td>Carbon monoxide</td>\n",
       "      <td>Parts per million</td>\n",
       "      <td>0.421053</td>\n",
       "      <td>9</td>\n",
       "    </tr>\n",
       "    <tr>\n",
       "      <th>259</th>\n",
       "      <td>1/1/18</td>\n",
       "      <td>North Carolina</td>\n",
       "      <td>Wake</td>\n",
       "      <td>Not in a city</td>\n",
       "      <td>Triple Oak</td>\n",
       "      <td>Carbon monoxide</td>\n",
       "      <td>Parts per million</td>\n",
       "      <td>0.188889</td>\n",
       "      <td>2</td>\n",
       "    </tr>\n",
       "  </tbody>\n",
       "</table>\n",
       "<p>260 rows × 9 columns</p>\n",
       "</div>"
      ],
      "text/plain": [
       "    date_local            state_name           county_name      city_name  \\\n",
       "0       1/1/18               Arizona              Maricopa        Buckeye   \n",
       "1       1/1/18                  Ohio               Belmont      Shadyside   \n",
       "2       1/1/18               Wyoming                 Teton  Not in a city   \n",
       "3       1/1/18          Pennsylvania          Philadelphia   Philadelphia   \n",
       "4       1/1/18                  Iowa                  Polk     Des Moines   \n",
       "..         ...                   ...                   ...            ...   \n",
       "255     1/1/18  District Of Columbia  District of Columbia     Washington   \n",
       "256     1/1/18             Wisconsin                 Dodge       Kekoskee   \n",
       "257     1/1/18              Kentucky             Jefferson     Louisville   \n",
       "258     1/1/18              Nebraska               Douglas          Omaha   \n",
       "259     1/1/18        North Carolina                  Wake  Not in a city   \n",
       "\n",
       "                                       local_site_name   parameter_name  \\\n",
       "0                                              BUCKEYE  Carbon monoxide   \n",
       "1                                            Shadyside  Carbon monoxide   \n",
       "2    Yellowstone National Park - Old Faithful Snow ...  Carbon monoxide   \n",
       "3                               North East Waste (NEW)  Carbon monoxide   \n",
       "4                                            CARPENTER  Carbon monoxide   \n",
       "..                                                 ...              ...   \n",
       "255                                          Near Road  Carbon monoxide   \n",
       "256                              HORICON WILDLIFE AREA  Carbon monoxide   \n",
       "257                                       CANNONS LANE  Carbon monoxide   \n",
       "258                                                NaN  Carbon monoxide   \n",
       "259                                         Triple Oak  Carbon monoxide   \n",
       "\n",
       "      units_of_measure  arithmetic_mean  aqi  \n",
       "0    Parts per million         0.473684    7  \n",
       "1    Parts per million         0.263158    5  \n",
       "2    Parts per million         0.111111    2  \n",
       "3    Parts per million         0.300000    3  \n",
       "4    Parts per million         0.215789    3  \n",
       "..                 ...              ...  ...  \n",
       "255  Parts per million         0.244444    3  \n",
       "256  Parts per million         0.200000    2  \n",
       "257  Parts per million         0.163158    2  \n",
       "258  Parts per million         0.421053    9  \n",
       "259  Parts per million         0.188889    2  \n",
       "\n",
       "[260 rows x 9 columns]"
      ]
     },
     "execution_count": 60,
     "metadata": {},
     "output_type": "execute_result"
    }
   ],
   "source": [
    "aqi = pd.read_csv('hypothesis_test_data.csv')\n",
    "df = aqi.copy()\n",
    "df"
   ]
  },
  {
   "cell_type": "markdown",
   "metadata": {},
   "source": [
    "## Part 2: Data Exploration"
   ]
  },
  {
   "cell_type": "markdown",
   "metadata": {},
   "source": [
    "### Before building a hypothesis test model, explore the datasets.\n",
    "\n",
    "Review here the descriptive statistics about the data. \n",
    "In particular, briefly consider the research questions and answers."
   ]
  },
  {
   "cell_type": "code",
   "execution_count": 61,
   "metadata": {},
   "outputs": [
    {
     "name": "stdout",
     "output_type": "stream",
     "text": [
      "<class 'pandas.core.frame.DataFrame'>\n",
      "RangeIndex: 260 entries, 0 to 259\n",
      "Data columns (total 9 columns):\n",
      " #   Column            Non-Null Count  Dtype  \n",
      "---  ------            --------------  -----  \n",
      " 0   date_local        260 non-null    object \n",
      " 1   state_name        260 non-null    object \n",
      " 2   county_name       260 non-null    object \n",
      " 3   city_name         260 non-null    object \n",
      " 4   local_site_name   257 non-null    object \n",
      " 5   parameter_name    260 non-null    object \n",
      " 6   units_of_measure  260 non-null    object \n",
      " 7   arithmetic_mean   260 non-null    float64\n",
      " 8   aqi               260 non-null    int64  \n",
      "dtypes: float64(1), int64(1), object(7)\n",
      "memory usage: 18.4+ KB\n"
     ]
    }
   ],
   "source": [
    "df.info()"
   ]
  },
  {
   "cell_type": "code",
   "execution_count": 62,
   "metadata": {},
   "outputs": [
    {
     "data": {
      "text/html": [
       "<div>\n",
       "<style scoped>\n",
       "    .dataframe tbody tr th:only-of-type {\n",
       "        vertical-align: middle;\n",
       "    }\n",
       "\n",
       "    .dataframe tbody tr th {\n",
       "        vertical-align: top;\n",
       "    }\n",
       "\n",
       "    .dataframe thead th {\n",
       "        text-align: right;\n",
       "    }\n",
       "</style>\n",
       "<table border=\"1\" class=\"dataframe\">\n",
       "  <thead>\n",
       "    <tr style=\"text-align: right;\">\n",
       "      <th></th>\n",
       "      <th>arithmetic_mean</th>\n",
       "      <th>aqi</th>\n",
       "    </tr>\n",
       "  </thead>\n",
       "  <tbody>\n",
       "    <tr>\n",
       "      <th>count</th>\n",
       "      <td>260.000000</td>\n",
       "      <td>260.000000</td>\n",
       "    </tr>\n",
       "    <tr>\n",
       "      <th>mean</th>\n",
       "      <td>0.403169</td>\n",
       "      <td>6.757692</td>\n",
       "    </tr>\n",
       "    <tr>\n",
       "      <th>std</th>\n",
       "      <td>0.317902</td>\n",
       "      <td>7.061707</td>\n",
       "    </tr>\n",
       "    <tr>\n",
       "      <th>min</th>\n",
       "      <td>0.000000</td>\n",
       "      <td>0.000000</td>\n",
       "    </tr>\n",
       "    <tr>\n",
       "      <th>25%</th>\n",
       "      <td>0.200000</td>\n",
       "      <td>2.000000</td>\n",
       "    </tr>\n",
       "    <tr>\n",
       "      <th>50%</th>\n",
       "      <td>0.276315</td>\n",
       "      <td>5.000000</td>\n",
       "    </tr>\n",
       "    <tr>\n",
       "      <th>75%</th>\n",
       "      <td>0.516009</td>\n",
       "      <td>9.000000</td>\n",
       "    </tr>\n",
       "    <tr>\n",
       "      <th>max</th>\n",
       "      <td>1.921053</td>\n",
       "      <td>50.000000</td>\n",
       "    </tr>\n",
       "  </tbody>\n",
       "</table>\n",
       "</div>"
      ],
      "text/plain": [
       "       arithmetic_mean         aqi\n",
       "count       260.000000  260.000000\n",
       "mean          0.403169    6.757692\n",
       "std           0.317902    7.061707\n",
       "min           0.000000    0.000000\n",
       "25%           0.200000    2.000000\n",
       "50%           0.276315    5.000000\n",
       "75%           0.516009    9.000000\n",
       "max           1.921053   50.000000"
      ]
     },
     "execution_count": 62,
     "metadata": {},
     "output_type": "execute_result"
    }
   ],
   "source": [
    "df.describe()"
   ]
  },
  {
   "cell_type": "code",
   "execution_count": 63,
   "metadata": {},
   "outputs": [
    {
     "data": {
      "text/plain": [
       "California              66\n",
       "Arizona                 14\n",
       "Ohio                    12\n",
       "Florida                 12\n",
       "Texas                   10\n",
       "New York                10\n",
       "Pennsylvania            10\n",
       "Michigan                 9\n",
       "Colorado                 9\n",
       "Minnesota                7\n",
       "New Jersey               6\n",
       "Indiana                  5\n",
       "North Carolina           4\n",
       "Massachusetts            4\n",
       "Maryland                 4\n",
       "Oklahoma                 4\n",
       "Virginia                 4\n",
       "Nevada                   4\n",
       "Connecticut              4\n",
       "Kentucky                 3\n",
       "Missouri                 3\n",
       "Wyoming                  3\n",
       "Iowa                     3\n",
       "Hawaii                   3\n",
       "Utah                     3\n",
       "Vermont                  3\n",
       "Illinois                 3\n",
       "New Hampshire            2\n",
       "District Of Columbia     2\n",
       "New Mexico               2\n",
       "Montana                  2\n",
       "Oregon                   2\n",
       "Alaska                   2\n",
       "Georgia                  2\n",
       "Washington               2\n",
       "Idaho                    2\n",
       "Nebraska                 2\n",
       "Rhode Island             2\n",
       "Tennessee                2\n",
       "Maine                    2\n",
       "South Carolina           1\n",
       "Puerto Rico              1\n",
       "Arkansas                 1\n",
       "Kansas                   1\n",
       "Mississippi              1\n",
       "Alabama                  1\n",
       "Louisiana                1\n",
       "Delaware                 1\n",
       "South Dakota             1\n",
       "West Virginia            1\n",
       "North Dakota             1\n",
       "Wisconsin                1\n",
       "Name: state_name, dtype: int64"
      ]
     },
     "execution_count": 63,
     "metadata": {},
     "output_type": "execute_result"
    }
   ],
   "source": [
    "df['state_name'].value_counts()"
   ]
  },
  {
   "cell_type": "markdown",
   "metadata": {},
   "source": [
    "## Part 3. Statistical Tests\n",
    "\n",
    "Before proceeding, recall the following steps for conducting hypothesis testing:\n",
    "\n",
    "1. Formulate the null hypothesis and the alternative hypothesis.<br>\n",
    "2. Set the significance level.<br>\n",
    "3. Determine the appropriate test procedure.<br>\n",
    "4. Compute the p-value.<br>\n",
    "5. Draw your conclusion."
   ]
  },
  {
   "cell_type": "markdown",
   "metadata": {},
   "source": [
    "### Hypothesis 1: Focus on comparing metropolitan areas. \n",
    "\n",
    "Within `California`, check whether the mean AQI in `Los Angeles` County is statistically different from `the rest of California`.\n",
    "\n",
    "`Tip`. Subsetting the data for the purposes would be helpful for the work."
   ]
  },
  {
   "cell_type": "code",
   "execution_count": 64,
   "metadata": {},
   "outputs": [],
   "source": [
    "# Create datafromes for each sample being compared in the test.\n",
    "ca_la = df[df['county_name']=='Los Angeles']\n",
    "ca_ot = df[(df['state_name']=='California') & (df['county_name']!='Los Angeles')]"
   ]
  },
  {
   "cell_type": "markdown",
   "metadata": {},
   "source": [
    "#### Formulate your hypothesis:\n",
    "\n",
    "Formulate your null and alternative hypotheses:\n",
    "\n",
    "*   $H_0$: There is `NO` difference in the mean AQI between `Los Angeles` County and the rest of `California`.\n",
    "*   $H_A$: There is a difference in the mean AQI between `Los Angeles` County and the rest of `California`."
   ]
  },
  {
   "cell_type": "markdown",
   "metadata": {},
   "source": [
    "#### Set the significance level"
   ]
  },
  {
   "cell_type": "code",
   "execution_count": 66,
   "metadata": {},
   "outputs": [
    {
     "data": {
      "text/plain": [
       "0.05"
      ]
     },
     "execution_count": 66,
     "metadata": {},
     "output_type": "execute_result"
    }
   ],
   "source": [
    "significance_level = 0.05\n",
    "significance_level"
   ]
  },
  {
   "cell_type": "markdown",
   "metadata": {},
   "source": [
    "#### Determine the appropriate test procedure:\n",
    "\n",
    "Compare the sameple means between two independent samples by utilizing a `two-sample` $t$-`test`."
   ]
  },
  {
   "cell_type": "markdown",
   "metadata": {},
   "source": [
    "#### Compute the P-value"
   ]
  },
  {
   "cell_type": "code",
   "execution_count": 67,
   "metadata": {},
   "outputs": [
    {
     "data": {
      "text/plain": [
       "Ttest_indResult(statistic=2.1107010796372014, pvalue=0.049839056842410995)"
      ]
     },
     "execution_count": 67,
     "metadata": {},
     "output_type": "execute_result"
    }
   ],
   "source": [
    "stats.ttest_ind(a=ca_la['aqi'], b=ca_ot['aqi'], equal_var=False)"
   ]
  },
  {
   "cell_type": "markdown",
   "metadata": {},
   "source": [
    "The result shows `p-value` is less than `0.05`, the significance level and `t-statistic` > 0.\n",
    "\n",
    "It indicates that the $H_0$, null hypothesis, is `rejected`.\n",
    "\n",
    "Therefore, the conclusion is that `Los Angeles` county has a higer mean AQI than `Other` counties in `California` at the 5% significance level."
   ]
  },
  {
   "cell_type": "markdown",
   "metadata": {},
   "source": [
    "### Hypothesis 2: Focus on specific 2 states.\n",
    "\n",
    "Simply compare the sample means between `New York` and `Ohio`\n",
    "\n",
    "For this test, subset the data from the original one."
   ]
  },
  {
   "cell_type": "code",
   "execution_count": 68,
   "metadata": {},
   "outputs": [],
   "source": [
    "ny = df[df['state_name']=='New York']\n",
    "oh = df[df['state_name']=='Ohio']"
   ]
  },
  {
   "cell_type": "markdown",
   "metadata": {},
   "source": [
    "#### Formulate your hypothesis:\n",
    "\n",
    "Formulate your null and alternative hypotheses:\n",
    "\n",
    "*   $H_0$: There is `NO` difference in the mean AQI between `New York` and `Ohio`.\n",
    "*   $H_A$: There is a difference in the mean AQI between `New York` and `Ohio`."
   ]
  },
  {
   "cell_type": "markdown",
   "metadata": {},
   "source": [
    "#### Set the significance level (remains at 5%)"
   ]
  },
  {
   "cell_type": "markdown",
   "metadata": {},
   "source": [
    "#### Determine the appropriate test procedure\n",
    "Compare the sample means between two independent samples in `one direction` by utilizing a **two-sample  𝑡-test**."
   ]
  },
  {
   "cell_type": "markdown",
   "metadata": {},
   "source": [
    "#### Compute the P-value"
   ]
  },
  {
   "cell_type": "code",
   "execution_count": 69,
   "metadata": {},
   "outputs": [
    {
     "data": {
      "text/plain": [
       "Ttest_indResult(statistic=-1.891850434703295, pvalue=0.03654034300840755)"
      ]
     },
     "execution_count": 69,
     "metadata": {},
     "output_type": "execute_result"
    }
   ],
   "source": [
    "# Include `alternative=less` option as parameter for one-sided test\n",
    "stats.ttest_ind(a=ny['aqi'], b=oh['aqi'], alternative='less')"
   ]
  },
  {
   "cell_type": "markdown",
   "metadata": {},
   "source": [
    "The result shows `p-value` is less than `0.05`, the significance level and `t-statistic` < 0.\n",
    "\n",
    "It indicates that the $H_0$, null hypothesis, is `rejected`.\n",
    "\n",
    "Therefore, the conclusion is that `New York` has a lower mean AQI than `Ohio` at the 5% significance level."
   ]
  },
  {
   "cell_type": "markdown",
   "metadata": {},
   "source": [
    "### Part 4. Evaluate and share results"
   ]
  },
  {
   "cell_type": "markdown",
   "metadata": {},
   "source": [
    "#### Part 4a. Evaluation\n",
    "Hypothesis test 1 results\n",
    "- Air Quality Index (AQI) is different between `Los Angeles` County and `the rest of California`.\n",
    "\n",
    "Hypothesis test 2 results\n",
    "- Using a 5% significance level, we can conclude that `New York` has a lower AQI than `Ohio`."
   ]
  },
  {
   "cell_type": "markdown",
   "metadata": {},
   "source": [
    "#### Part 4b. Conclusion or Takeaway\n",
    "\n",
    "1. Even with small sample sizes, the variation within the data is enough to allow you to make statistically significant conclusions. \n",
    "2. For each test, the `null` and `alternative` hypothesis would be presented, then conclusion can be described based on `p-value` under the significance level.\n",
    "3. Perfoming `A/B test`, a part of hypothesis tests, allows stakeholders to quickly understand the difference between your results."
   ]
  }
 ],
 "metadata": {
  "kernelspec": {
   "display_name": "streamlit-app",
   "language": "python",
   "name": "python3"
  },
  "language_info": {
   "codemirror_mode": {
    "name": "ipython",
    "version": 3
   },
   "file_extension": ".py",
   "mimetype": "text/x-python",
   "name": "python",
   "nbconvert_exporter": "python",
   "pygments_lexer": "ipython3",
   "version": "3.9.16"
  },
  "orig_nbformat": 4
 },
 "nbformat": 4,
 "nbformat_minor": 2
}
