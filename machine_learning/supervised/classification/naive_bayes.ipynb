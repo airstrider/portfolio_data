{
 "cells": [
  {
   "cell_type": "markdown",
   "metadata": {},
   "source": [
    "# Building Naive Bayes classification model\n",
    "\n",
    "## Introduction\n",
    "\n",
    "This project will build an effective naive bayes classification.\n",
    "The goal is to:\n",
    "- Build a naive bayes model to make predictions for a dependent variable based on one independent variable.\n",
    "\n",
    "Before building and executing the naive bayes classification model, basic EDA, data cleaning, and other manipulations may be conducted to prepare the data for modeling.\n",
    "\n",
    "Modeling follows the steps:\n",
    "1. Importing packages and loading data\n",
    "2. Exploring the data and completing the cleaning process\n",
    "3. Building a naive bayes classification model\n",
    "4. Evaluating the naive bayes classification model using a confusion matrix"
   ]
  },
  {
   "cell_type": "markdown",
   "metadata": {},
   "source": [
    "### Step 1: Importing packages and loading data\n",
    "\n",
    "#### 1.1. Import packages\n",
    "\n",
    "Import relevant Python packages."
   ]
  },
  {
   "cell_type": "code",
   "execution_count": 1,
   "metadata": {},
   "outputs": [],
   "source": [
    "import numpy as np\n",
    "import pandas as pd\n",
    "\n",
    "from sklearn.model_selection import train_test_split\n",
    "from sklearn.naive_bayes import GaussianNB\n",
    "from sklearn.metrics import accuracy_score, precision_score, recall_score, f1_score\n",
    "from sklearn.metrics import confusion_matrix, ConfusionMatrixDisplay\n",
    "\n",
    "import matplotlib.pyplot as plt\n",
    "import seaborn as sns\n",
    "import joblib"
   ]
  },
  {
   "cell_type": "markdown",
   "metadata": {},
   "source": [
    "#### 1.2. Load the dataset\n",
    "\n",
    "Load the `naive-bayes-classification.csv` dataset. Save the data to `df_original`, a pandas `DataFrame` object.\n",
    "\n",
    "The original dataset is from the link below.\n",
    "- https://www.kaggle.com/datasets/himanshunakrani/naive-bayes-classification-data\n"
   ]
  },
  {
   "cell_type": "code",
   "execution_count": 2,
   "metadata": {},
   "outputs": [
    {
     "data": {
      "text/html": [
       "<div>\n",
       "<style scoped>\n",
       "    .dataframe tbody tr th:only-of-type {\n",
       "        vertical-align: middle;\n",
       "    }\n",
       "\n",
       "    .dataframe tbody tr th {\n",
       "        vertical-align: top;\n",
       "    }\n",
       "\n",
       "    .dataframe thead th {\n",
       "        text-align: right;\n",
       "    }\n",
       "</style>\n",
       "<table border=\"1\" class=\"dataframe\">\n",
       "  <thead>\n",
       "    <tr style=\"text-align: right;\">\n",
       "      <th></th>\n",
       "      <th>glucose</th>\n",
       "      <th>bloodpressure</th>\n",
       "      <th>diabetes</th>\n",
       "    </tr>\n",
       "  </thead>\n",
       "  <tbody>\n",
       "    <tr>\n",
       "      <th>0</th>\n",
       "      <td>40</td>\n",
       "      <td>85</td>\n",
       "      <td>0</td>\n",
       "    </tr>\n",
       "    <tr>\n",
       "      <th>1</th>\n",
       "      <td>40</td>\n",
       "      <td>92</td>\n",
       "      <td>0</td>\n",
       "    </tr>\n",
       "    <tr>\n",
       "      <th>2</th>\n",
       "      <td>45</td>\n",
       "      <td>63</td>\n",
       "      <td>1</td>\n",
       "    </tr>\n",
       "    <tr>\n",
       "      <th>3</th>\n",
       "      <td>45</td>\n",
       "      <td>80</td>\n",
       "      <td>0</td>\n",
       "    </tr>\n",
       "    <tr>\n",
       "      <th>4</th>\n",
       "      <td>40</td>\n",
       "      <td>73</td>\n",
       "      <td>1</td>\n",
       "    </tr>\n",
       "    <tr>\n",
       "      <th>...</th>\n",
       "      <td>...</td>\n",
       "      <td>...</td>\n",
       "      <td>...</td>\n",
       "    </tr>\n",
       "    <tr>\n",
       "      <th>990</th>\n",
       "      <td>45</td>\n",
       "      <td>87</td>\n",
       "      <td>0</td>\n",
       "    </tr>\n",
       "    <tr>\n",
       "      <th>991</th>\n",
       "      <td>40</td>\n",
       "      <td>83</td>\n",
       "      <td>0</td>\n",
       "    </tr>\n",
       "    <tr>\n",
       "      <th>992</th>\n",
       "      <td>40</td>\n",
       "      <td>83</td>\n",
       "      <td>0</td>\n",
       "    </tr>\n",
       "    <tr>\n",
       "      <th>993</th>\n",
       "      <td>40</td>\n",
       "      <td>60</td>\n",
       "      <td>1</td>\n",
       "    </tr>\n",
       "    <tr>\n",
       "      <th>994</th>\n",
       "      <td>45</td>\n",
       "      <td>82</td>\n",
       "      <td>0</td>\n",
       "    </tr>\n",
       "  </tbody>\n",
       "</table>\n",
       "<p>995 rows × 3 columns</p>\n",
       "</div>"
      ],
      "text/plain": [
       "     glucose  bloodpressure  diabetes\n",
       "0         40             85         0\n",
       "1         40             92         0\n",
       "2         45             63         1\n",
       "3         45             80         0\n",
       "4         40             73         1\n",
       "..       ...            ...       ...\n",
       "990       45             87         0\n",
       "991       40             83         0\n",
       "992       40             83         0\n",
       "993       40             60         1\n",
       "994       45             82         0\n",
       "\n",
       "[995 rows x 3 columns]"
      ]
     },
     "execution_count": 2,
     "metadata": {},
     "output_type": "execute_result"
    }
   ],
   "source": [
    "df_original = pd.read_csv('../../../data/naive-bayes-classification.csv')\n",
    "df_original"
   ]
  },
  {
   "cell_type": "code",
   "execution_count": 3,
   "metadata": {},
   "outputs": [
    {
     "name": "stdout",
     "output_type": "stream",
     "text": [
      "<class 'pandas.core.frame.DataFrame'>\n",
      "RangeIndex: 995 entries, 0 to 994\n",
      "Data columns (total 3 columns):\n",
      " #   Column         Non-Null Count  Dtype\n",
      "---  ------         --------------  -----\n",
      " 0   glucose        995 non-null    int64\n",
      " 1   bloodpressure  995 non-null    int64\n",
      " 2   diabetes       995 non-null    int64\n",
      "dtypes: int64(3)\n",
      "memory usage: 23.4 KB\n"
     ]
    }
   ],
   "source": [
    "df_original.info()"
   ]
  },
  {
   "cell_type": "markdown",
   "metadata": {},
   "source": [
    "### Step 2: Exploring the data and completing the cleaning process\n",
    "\n",
    "#### 2.1. Prepare the data\n",
    "\n",
    "After loading the dataset, prepare the data to be suitable for a naive bayes classification model.\n",
    "- Exploring the daa\n",
    "- Checking for missing values\n",
    "- Encoding the data\n",
    "- Split the `original` dataset into `train` and `test` dataset. "
   ]
  },
  {
   "cell_type": "markdown",
   "metadata": {},
   "source": [
    "#### 2.2. Explore the data\n",
    "\n",
    "Check the data type of each column. Note that naive bayes classification models expect numeric data. "
   ]
  },
  {
   "cell_type": "code",
   "execution_count": 9,
   "metadata": {},
   "outputs": [
    {
     "data": {
      "text/plain": [
       "glucose          int64\n",
       "bloodpressure    int64\n",
       "diabetes         int64\n",
       "dtype: object"
      ]
     },
     "execution_count": 9,
     "metadata": {},
     "output_type": "execute_result"
    }
   ],
   "source": [
    "df_original.dtypes"
   ]
  },
  {
   "cell_type": "markdown",
   "metadata": {},
   "source": [
    "#### 2.3. Check the number of target values in the dataset\n",
    "\n",
    "To predict diabetes, check how much the target values in the dataset are differently distributed before modeling."
   ]
  },
  {
   "cell_type": "code",
   "execution_count": 10,
   "metadata": {},
   "outputs": [
    {
     "data": {
      "text/plain": [
       "1    0.500503\n",
       "0    0.499497\n",
       "Name: diabetes, dtype: float64"
      ]
     },
     "execution_count": 10,
     "metadata": {},
     "output_type": "execute_result"
    }
   ],
   "source": [
    "df = df_original.copy()\n",
    "df['diabetes'].value_counts(normalize=True)"
   ]
  },
  {
   "cell_type": "markdown",
   "metadata": {},
   "source": [
    "`50.1%` of the patients were diabetes. While this is a simple calculation, this value can be compared to a naive bayes classification model's accuracy. \n",
    "\n",
    "There is no big difference between `diabetes` and `non-diabetes`. No need to worry about data skewing."
   ]
  },
  {
   "cell_type": "markdown",
   "metadata": {},
   "source": [
    "#### 2.4. Check for missing values\n",
    "\n",
    "Check the missing values in the rows of the data."
   ]
  },
  {
   "cell_type": "code",
   "execution_count": 11,
   "metadata": {},
   "outputs": [
    {
     "data": {
      "text/plain": [
       "glucose          0\n",
       "bloodpressure    0\n",
       "diabetes         0\n",
       "dtype: int64"
      ]
     },
     "execution_count": 11,
     "metadata": {},
     "output_type": "execute_result"
    }
   ],
   "source": [
    "df.isna().sum()"
   ]
  },
  {
   "cell_type": "markdown",
   "metadata": {},
   "source": [
    "There is no missing value. Just keep going."
   ]
  },
  {
   "cell_type": "markdown",
   "metadata": {},
   "source": [
    "#### 2.5. Split the `original` dataset into `train` and `test` dataset. \n",
    "\n",
    "- Put `70%` into `train` set\n",
    "- Put `30%` into `test` set\n",
    "- `X` is independent variable\n",
    "- `y` is dependent(or target) variable"
   ]
  },
  {
   "cell_type": "code",
   "execution_count": 12,
   "metadata": {},
   "outputs": [
    {
     "data": {
      "text/plain": [
       "((696, 2), (299, 2), (696,), (299,))"
      ]
     },
     "execution_count": 12,
     "metadata": {},
     "output_type": "execute_result"
    }
   ],
   "source": [
    "y = df['diabetes']\n",
    "X = df.drop(columns=['diabetes'], axis=1)\n",
    "\n",
    "X_train, X_test, y_train, y_test = train_test_split(X, y, test_size=0.3, random_state=42)\n",
    "X_train.shape, X_test.shape, y_train.shape, y_test.shape"
   ]
  },
  {
   "cell_type": "markdown",
   "metadata": {},
   "source": [
    "### Step 3: Building a naive bayes classification model\n",
    "\n",
    "#### 3.1. Build & Fit a naive bayes classification model\n",
    "\n",
    "Build a `Gaussian Naive Bayes` classification model and fit the model to the training data."
   ]
  },
  {
   "cell_type": "code",
   "execution_count": 13,
   "metadata": {},
   "outputs": [],
   "source": [
    "nb = GaussianNB().fit(X_train, y_train)\n",
    "y_preds = nb.predict(X_test)\n",
    "# y_preds"
   ]
  },
  {
   "cell_type": "code",
   "execution_count": 18,
   "metadata": {},
   "outputs": [
    {
     "data": {
      "text/plain": [
       "['../../../model/naive_bayes.pkl']"
      ]
     },
     "execution_count": 18,
     "metadata": {},
     "output_type": "execute_result"
    }
   ],
   "source": [
    "# Save the model object to make other apps use it.\n",
    "joblib.dump(nb, '../../../model/naive_bayes.pkl')"
   ]
  },
  {
   "cell_type": "markdown",
   "metadata": {},
   "source": [
    "### Step4. Evaluating a binomial logistic regression model using a confusion matrix\n",
    "\n",
    "#### 4.1. Review 4 scores\n",
    "\n",
    "* `Accuracy` (TP+TN/TP+FP+FN+TN): The ratio of correctly predicted observations to total observations. It tends to be the metric that stakeholders can best understand.\n",
    "\n",
    "* `Precision` (TP/TP+FP): The ratio of correctly predicted positive observations to total predicted positive observations.\n",
    "\n",
    "* `Recall` (Sensitivity, TP/TP+FN): The ratio of correctly predicted positive observations to all observations in actual class.\n",
    "\n",
    "* `F1`: The harmonic average of precision and recall, which takes into account both false positives and false negatives."
   ]
  },
  {
   "cell_type": "code",
   "execution_count": 16,
   "metadata": {},
   "outputs": [
    {
     "name": "stdout",
     "output_type": "stream",
     "text": [
      "accuracy score:\t 0.933\n",
      "precision score: 0.937\n",
      "recall score:\t 0.937\n",
      "f1 score:\t 0.937\n"
     ]
    }
   ],
   "source": [
    "print('accuracy score:\\t', '%.3f' % accuracy_score(y_test, y_preds))\n",
    "print('precision score:', '%.3f' % precision_score(y_test, y_preds))\n",
    "print('recall score:\\t', '%.3f' % recall_score(y_test, y_preds))\n",
    "print('f1 score:\\t', '%.3f' % f1_score(y_test, y_preds))"
   ]
  },
  {
   "cell_type": "markdown",
   "metadata": {},
   "source": [
    "All the metrics are very high scores over `93.7%`.\n",
    "\n",
    "They indicate that this model predicts very well."
   ]
  },
  {
   "cell_type": "markdown",
   "metadata": {},
   "source": [
    "#### 4.2. Produce a confusion matrix"
   ]
  },
  {
   "cell_type": "code",
   "execution_count": 17,
   "metadata": {},
   "outputs": [
    {
     "data": {
      "image/png": "[encoded data removed]",
      "text/plain": [
       "<Figure size 640x480 with 2 Axes>"
      ]
     },
     "metadata": {},
     "output_type": "display_data"
    }
   ],
   "source": [
    "cm = confusion_matrix(y_test, y_preds, labels=nb.classes_)\n",
    "disp = ConfusionMatrixDisplay(confusion_matrix=cm, display_labels=nb.classes_)\n",
    "disp.plot()\n",
    "plt.show()"
   ]
  },
  {
   "cell_type": "markdown",
   "metadata": {},
   "source": [
    "#### 4.3. Analyze the matrix.\n",
    "\n",
    "- Both `false positive` and `false negative` are under `10`, which are extreamly low numbers.\n",
    "- Both `true positive` and `true negative` are high numbers above `130`.\n",
    "- There isn't a large difference between `false positive` and `false negative`. "
   ]
  },
  {
   "cell_type": "markdown",
   "metadata": {},
   "source": [
    "### Considerations\n",
    "\n",
    "#### Takeaways\n",
    "- The naive bayes classification model on independent variables can produce a very good model (`93.3%` accuracy)\n",
    "- The model is `93.3%` accurate. This is a much improvement over the original rate of `50.1%`. \n",
    "\n",
    "#### Recommendations\n",
    "- Using `Gaussian Naive Bayes` model could improve prediction performance much although the data are not normally distributed."
   ]
  }
 ],
 "metadata": {
  "kernelspec": {
   "display_name": "env",
   "language": "python",
   "name": "python3"
  },
  "language_info": {
   "codemirror_mode": {
    "name": "ipython",
    "version": 3
   },
   "file_extension": ".py",
   "mimetype": "text/x-python",
   "name": "python",
   "nbconvert_exporter": "python",
   "pygments_lexer": "ipython3",
   "version": "3.7.15"
  }
 },
 "nbformat": 4,
 "nbformat_minor": 2
}
